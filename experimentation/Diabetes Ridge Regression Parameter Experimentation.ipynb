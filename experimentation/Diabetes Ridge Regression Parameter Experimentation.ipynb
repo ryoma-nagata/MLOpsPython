{
 "cells": [
  {
   "cell_type": "markdown",
   "metadata": {},
   "source": [
    "# 糖尿病データセットにおけるリッジ回帰モデルのパラメータを用いた実験"
   ]
  },
  {
   "cell_type": "markdown",
   "metadata": {},
   "source": [
    "このノートブックは、糖尿病データセット上でリッジ回帰モデルを訓練するために、さまざまなパラメータを使って実験するためのものです。"
   ]
  },
  {
   "cell_type": "code",
   "execution_count": null,
   "metadata": {},
   "outputs": [],
   "source": [
    "# 実験ディレクトリからの変更\n",
    "%cd .."
   ]
  },
  {
   "cell_type": "code",
   "execution_count": null,
   "metadata": {},
   "outputs": [],
   "source": [
    "import azureml.core\n",
    "from azureml.core import Workspace"
   ]
  },
  {
   "cell_type": "code",
   "execution_count": null,
   "metadata": {},
   "outputs": [],
   "source": [
    "# 保存された設定ファイルからワークスペースを読み込む\n",
    "ws = Workspace.from_config()"
   ]
  },
  {
   "cell_type": "code",
   "execution_count": null,
   "metadata": {},
   "outputs": [],
   "source": [
    "import os, shutil\n",
    "\n",
    "# 実験ファイル用のフォルダを作成する\n",
    "training_folder = 'diabetes-training'\n",
    "os.makedirs(training_folder, exist_ok=True)\n",
    "\n",
    "# 実験フォルダにデータファイルをコピー\n",
    "shutil.copy('data/diabetes.csv', os.path.join(training_folder, \"diabetes.csv\"))\n",
    "\n",
    "# 実験フォルダにtrain関数をコピー\n",
    "shutil.copy('diabetes_regression/training/train.py', os.path.join(training_folder, \"train.py\"))"
   ]
  },
  {
   "cell_type": "code",
   "execution_count": null,
   "metadata": {},
   "outputs": [],
   "source": [
    "%%writefile $training_folder/parameters.json\n",
    "{\n",
    "    \"training\":\n",
    "    {\n",
    "        \"alpha\": 0.3\n",
    "    },\n",
    "    \"evaluation\":\n",
    "    {\n",
    "\n",
    "    },\n",
    "    \"scoring\":\n",
    "    {\n",
    "        \n",
    "    }\n",
    "}\n"
   ]
  },
  {
   "cell_type": "code",
   "execution_count": null,
   "metadata": {},
   "outputs": [],
   "source": [
    "%%writefile $training_folder/diabetes_training.py\n",
    "# ライブラリのインポート\n",
    "from azureml.core import Run\n",
    "import json\n",
    "import os\n",
    "import pandas as pd\n",
    "import shutil\n",
    "\n",
    "from train import split_data, train_model\n",
    "\n",
    "# 実験の実行コンテキストの取得\n",
    "run = Run.get_context()\n",
    "\n",
    "# 糖尿病データセットの読み込み\n",
    "print(\"Loading Data...\")\n",
    "train_df = pd.read_csv('diabetes.csv')\n",
    "\n",
    "data = split_data(train_df)\n",
    "\n",
    "# テストするパラメータを指定する\n",
    "with open(\"parameters.json\") as f:\n",
    "    pars = json.load(f)\n",
    "    train_args = pars[\"training\"]\n",
    "\n",
    "# パラメータのログ\n",
    "for k, v in train_args.items():\n",
    "    run.log(k, v)\n",
    "\n",
    "model, metrics = train_model(data, train_args)\n",
    "\n",
    "# メトリクスのログ\n",
    "for k, v in metrics.items():\n",
    "    run.log(k, v)\n",
    "\n",
    "# パラメータファイルを出力フォルダに保存する\n",
    "os.makedirs('outputs', exist_ok=True)\n",
    "shutil.copy('parameters.json', os.path.join('outputs', 'parameters.json'))\n",
    "    \n",
    "run.complete()"
   ]
  },
  {
   "cell_type": "code",
   "execution_count": null,
   "metadata": {},
   "outputs": [],
   "source": [
    "from azureml.train.estimator import Estimator\n",
    "from azureml.core import Experiment\n",
    "\n",
    "# 推定機の作成\n",
    "estimator = Estimator(source_directory=training_folder,\n",
    "                      entry_script='diabetes_training.py',\n",
    "                      compute_target='local',\n",
    "                      conda_packages=['scikit-learn']\n",
    "                      )\n",
    "\n",
    "# 実験の作成\n",
    "experiment_name = 'diabetes-training'\n",
    "experiment = Experiment(workspace = ws, name = experiment_name)\n",
    "\n",
    "# 推定器に基づいて実験を行う\n",
    "run = experiment.submit(config=estimator)\n",
    "run.wait_for_completion(show_output=True)"
   ]
  },
  {
   "cell_type": "code",
   "execution_count": null,
   "metadata": {},
   "outputs": [],
   "source": [
    "metrics = run.get_metrics()\n",
    "for k, v in metrics.items():\n",
    "        print(k, v)"
   ]
  },
  {
   "cell_type": "code",
   "execution_count": null,
   "metadata": {},
   "outputs": [],
   "source": [
    "for file in run.get_file_names():\n",
    "    print(file)"
   ]
  },
  {
   "cell_type": "code",
   "execution_count": null,
   "metadata": {},
   "outputs": [],
   "source": []
  }
 ],
 "metadata": {
  "kernelspec": {
   "display_name": "Python 3.6.10 64-bit ('OH3': conda)",
   "language": "python",
   "name": "python361064bitoh3conda5f7beeba8c1d407187c86667ecfb684f"
  },
  "language_info": {
   "codemirror_mode": {
    "name": "ipython",
    "version": 3
   },
   "file_extension": ".py",
   "mimetype": "text/x-python",
   "name": "python",
   "nbconvert_exporter": "python",
   "pygments_lexer": "ipython3",
   "version": "3.6.10"
  }
 },
 "nbformat": 4,
 "nbformat_minor": 2
}